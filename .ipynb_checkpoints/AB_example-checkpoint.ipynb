{
 "cells": [
  {
   "cell_type": "markdown",
   "metadata": {},
   "source": [
    "# A/B - testing (hypothesis testing)"
   ]
  },
  {
   "cell_type": "code",
   "execution_count": 4,
   "metadata": {},
   "outputs": [],
   "source": [
    "import numpy as np\n",
    "import pandas as pd\n",
    "from scipy.stats import norm,t,anderson, chi2_contingency,chi2\n",
    "from statsmodels.stats.weightstats import ztest, ttest_ind\n",
    "import seaborn as sns\n",
    "import matplotlib.pyplot as plt\n",
    "from   statsmodels.stats.diagnostic import anderson_statistic"
   ]
  },
  {
   "cell_type": "code",
   "execution_count": 8,
   "metadata": {},
   "outputs": [],
   "source": [
    "dataset = pd.read_csv('advertisement_clicks.csv')"
   ]
  },
  {
   "cell_type": "code",
   "execution_count": 9,
   "metadata": {},
   "outputs": [
    {
     "data": {
      "text/html": [
       "<div>\n",
       "<style scoped>\n",
       "    .dataframe tbody tr th:only-of-type {\n",
       "        vertical-align: middle;\n",
       "    }\n",
       "\n",
       "    .dataframe tbody tr th {\n",
       "        vertical-align: top;\n",
       "    }\n",
       "\n",
       "    .dataframe thead th {\n",
       "        text-align: right;\n",
       "    }\n",
       "</style>\n",
       "<table border=\"1\" class=\"dataframe\">\n",
       "  <thead>\n",
       "    <tr style=\"text-align: right;\">\n",
       "      <th></th>\n",
       "      <th>advertisement_id</th>\n",
       "      <th>action</th>\n",
       "    </tr>\n",
       "  </thead>\n",
       "  <tbody>\n",
       "    <tr>\n",
       "      <th>0</th>\n",
       "      <td>B</td>\n",
       "      <td>1</td>\n",
       "    </tr>\n",
       "    <tr>\n",
       "      <th>1</th>\n",
       "      <td>B</td>\n",
       "      <td>1</td>\n",
       "    </tr>\n",
       "    <tr>\n",
       "      <th>2</th>\n",
       "      <td>A</td>\n",
       "      <td>0</td>\n",
       "    </tr>\n",
       "  </tbody>\n",
       "</table>\n",
       "</div>"
      ],
      "text/plain": [
       "  advertisement_id  action\n",
       "0                B       1\n",
       "1                B       1\n",
       "2                A       0"
      ]
     },
     "execution_count": 9,
     "metadata": {},
     "output_type": "execute_result"
    }
   ],
   "source": [
    "dataset.head(3)"
   ]
  },
  {
   "cell_type": "code",
   "execution_count": 10,
   "metadata": {},
   "outputs": [
    {
     "name": "stdout",
     "output_type": "stream",
     "text": [
      "<class 'pandas.core.frame.DataFrame'>\n",
      "RangeIndex: 2000 entries, 0 to 1999\n",
      "Data columns (total 2 columns):\n",
      " #   Column            Non-Null Count  Dtype \n",
      "---  ------            --------------  ----- \n",
      " 0   advertisement_id  2000 non-null   object\n",
      " 1   action            2000 non-null   int64 \n",
      "dtypes: int64(1), object(1)\n",
      "memory usage: 31.4+ KB\n"
     ]
    }
   ],
   "source": [
    "dataset.info()"
   ]
  },
  {
   "cell_type": "code",
   "execution_count": 11,
   "metadata": {},
   "outputs": [],
   "source": [
    "a = dataset[dataset.advertisement_id == 'A']['action'].to_numpy()\n",
    "b = dataset[dataset.advertisement_id == 'B']['action'].to_numpy()"
   ]
  },
  {
   "cell_type": "code",
   "execution_count": 12,
   "metadata": {},
   "outputs": [
    {
     "data": {
      "image/png": "[encoded data removed]",
      "text/plain": [
       "<Figure size 720x360 with 2 Axes>"
      ]
     },
     "metadata": {},
     "output_type": "display_data"
    }
   ],
   "source": [
    "fig, axis = plt.subplots(1,2,figsize = (10,5))\n",
    "#axis.hist(a, color = 'red')\n",
    "#axis.hist(a, width = 0.45,color = 'red',alpha = 0.5)\n",
    "#axis.hist(b+0.45,width = 0.45, color = 'blue',alpha = 0.5)\n",
    "a_l = [np.sum(a),a.shape[0]-np.sum(a)]\n",
    "b_l = [np.sum(b),b.shape[0]-np.sum(b)]\n",
    "axis[0].pie(a_l, autopct = \"%.0f%%\")\n",
    "axis[1].pie(b_l, autopct = \"%.0f%%\")\n",
    "#axis.hist(b+0.45,width = 0.45, color = 'blue',alpha = 0.5)\n",
    "#axis.set_xlabel(['A','survived'])\n",
    "axis[0].legend(['1','0'])\n",
    "axis[0].set_title('A')\n",
    "axis[1].set_title('B')\n",
    "axis[1].legend(['1','0'])\n",
    "fig.suptitle('A and B companies: B result is better. Is it statistically proven?')\n",
    "plt.show()"
   ]
  },
  {
   "cell_type": "code",
   "execution_count": 13,
   "metadata": {},
   "outputs": [],
   "source": [
    "mean_a = np.mean(a)\n",
    "mean_b = np.mean(b)\n",
    "s2_a   = np.var(a,ddof=1)\n",
    "s2_b   = np.var(b,ddof=1)\n",
    "dmean  = mean_b - mean_a\n",
    "N1 = a.shape[0]\n",
    "N2 = b.shape[0]"
   ]
  },
  {
   "cell_type": "code",
   "execution_count": 14,
   "metadata": {},
   "outputs": [
    {
     "data": {
      "text/plain": [
       "(0.304, 0.372, 0.068, 0.22368421052631582, 1000, 1000)"
      ]
     },
     "execution_count": 14,
     "metadata": {},
     "output_type": "execute_result"
    }
   ],
   "source": [
    "mean_a,mean_b, dmean, N1,N2"
   ]
  },
  {
   "cell_type": "code",
   "execution_count": 15,
   "metadata": {},
   "outputs": [
    {
     "data": {
      "text/plain": [
       "(0.0006485952733562587, 0.0006383348150764772)"
      ]
     },
     "execution_count": 15,
     "metadata": {},
     "output_type": "execute_result"
    }
   ],
   "source": [
    "# T - test and Z - test \n",
    "ttest_ind(b,a, alternative = 'larger')[1], ztest(b,a, alternative= 'larger')[1]"
   ]
  },
  {
   "cell_type": "code",
   "execution_count": 16,
   "metadata": {},
   "outputs": [],
   "source": [
    "# both test make us to decline H0 hypothesis (that mean(A) = mean(B)), with alternative hypothesis that mean(B) > mean(A)"
   ]
  },
  {
   "cell_type": "code",
   "execution_count": 17,
   "metadata": {},
   "outputs": [
    {
     "data": {
      "text/plain": [
       "(0.05371390629232788, 0.053634927439919385)"
      ]
     },
     "execution_count": 17,
     "metadata": {},
     "output_type": "execute_result"
    }
   ],
   "source": [
    "# Tests for value = (mean_b - mean_a)/2\n",
    "ttest_ind(b,a, value = dmean/2, alternative = 'larger')[1], ztest(b,a, value = dmean/2,alternative= 'larger')[1]"
   ]
  },
  {
   "cell_type": "code",
   "execution_count": 37,
   "metadata": {},
   "outputs": [
    {
     "data": {
      "text/plain": [
       "(0.000634753994905426, 0.05354709993296096)"
      ]
     },
     "execution_count": 37,
     "metadata": {},
     "output_type": "execute_result"
    }
   ],
   "source": [
    "# check by hand \n",
    "sigma_a2 = np.std(a)**2\n",
    "sigma_a2\n",
    "sigma_b2 = np.std(b)**2\n",
    "sigma_a_b2 = sigma_a2/N1+sigma_b2/N2\n",
    "d_normalize = dmean/np.sqrt(sigma_a_b2)\n",
    "norm.sf(d_normalize),norm.sf(d_normalize/2)"
   ]
  },
  {
   "cell_type": "code",
   "execution_count": 15,
   "metadata": {},
   "outputs": [],
   "source": [
    "# We can see that p_value 0.054 (is about significancve level = 0.05)\n",
    "# that can give as idea about how mach B is better then A "
   ]
  },
  {
   "cell_type": "code",
   "execution_count": 16,
   "metadata": {},
   "outputs": [],
   "source": [
    "# Check hypothesis for  feature shares"
   ]
  },
  {
   "cell_type": "code",
   "execution_count": 19,
   "metadata": {},
   "outputs": [
    {
     "data": {
      "text/plain": [
       "0.0006638978380441542"
      ]
     },
     "execution_count": 19,
     "metadata": {},
     "output_type": "execute_result"
    }
   ],
   "source": [
    "p_a = np.mean(a)\n",
    "p_b = np.mean(b)\n",
    "p_hat = (np.sum(a)+np.sum(b))/(a.shape[0]+b.shape[0])\n",
    "var = p_hat*(1-p_hat)*(1/N1+1/N2)\n",
    "sigma = np.sqrt(var)\n",
    "t_fact =(p_b-p_a)/sigma\n",
    "t.sf(t_fact,df = N1+N2-2)"
   ]
  },
  {
   "cell_type": "code",
   "execution_count": 20,
   "metadata": {},
   "outputs": [],
   "source": [
    "# As p_value < significance level = 0.05, we should reject zero hypothesis.\n",
    "# We can see that all three test gave close result p-value is about 0.0006  - 0.0007 < 0.1%."
   ]
  },
  {
   "cell_type": "code",
   "execution_count": 21,
   "metadata": {},
   "outputs": [],
   "source": [
    "#Chi2 contingency test"
   ]
  },
  {
   "cell_type": "code",
   "execution_count": 25,
   "metadata": {},
   "outputs": [],
   "source": [
    "a1 = np.sum(a)\n",
    "a0 = a.shape[0] - a1\n",
    "b1 = np.sum(b)\n",
    "b0 = b.shape[0] - b1\n",
    "data_for_chi2 = [[a1,a0],[b1,b0]]"
   ]
  },
  {
   "cell_type": "code",
   "execution_count": 30,
   "metadata": {},
   "outputs": [
    {
     "name": "stdout",
     "output_type": "stream",
     "text": [
      "chi2 p_value =  0.0015392611623486726\n"
     ]
    }
   ],
   "source": [
    "print('chi2 p_value = ',chi2_contingency(data_for_chi2)[1])"
   ]
  },
  {
   "cell_type": "code",
   "execution_count": 31,
   "metadata": {},
   "outputs": [],
   "source": [
    "# As p_value below given significance level the zero hypothesis that [A,B] and [0,1] are independent should be rejacted"
   ]
  },
  {
   "cell_type": "code",
   "execution_count": 32,
   "metadata": {},
   "outputs": [],
   "source": [
    "#Chi2 contingency test \"by hand\" "
   ]
  },
  {
   "cell_type": "code",
   "execution_count": 33,
   "metadata": {},
   "outputs": [],
   "source": [
    "N12 = N1+N2\n",
    "Qa  = a.shape[0] \n",
    "Qb  = b.shape[0]\n",
    "pa  = Qa/N12\n",
    "pb  = Qb/N12\n",
    "p1  = (a1 + b1)/N12\n",
    "p0  = (a0 + b0)/N12\n",
    "ch2_stat = N12*((a1/N12 - pa*p1)**2/(pa*p1)+\n",
    "                (a0/N12 - pa*p0)**2/(pa*p0)+\n",
    "                (b1/N12 - pb*p1)**2/(pb*p1)+\n",
    "                (b0/N12 - pb*p0)**2/(pb*p0))"
   ]
  },
  {
   "cell_type": "code",
   "execution_count": 34,
   "metadata": {},
   "outputs": [
    {
     "data": {
      "text/plain": [
       "(10.332683816299893, 10.031015928064498)"
      ]
     },
     "execution_count": 34,
     "metadata": {},
     "output_type": "execute_result"
    }
   ],
   "source": [
    "ch2_stat,chi2_contingency(data_for_chi2)[0]"
   ]
  },
  {
   "cell_type": "code",
   "execution_count": null,
   "metadata": {},
   "outputs": [],
   "source": [
    "# We can see that \"by hand calculation\" and scipy gave close results"
   ]
  },
  {
   "cell_type": "code",
   "execution_count": 38,
   "metadata": {},
   "outputs": [
    {
     "data": {
      "text/plain": [
       "(0.0013069502732125473, 0.0015392611623486726)"
      ]
     },
     "execution_count": 38,
     "metadata": {},
     "output_type": "execute_result"
    }
   ],
   "source": [
    "# Let us get p-value\n",
    "chi2.sf(ch2_stat,df=1),chi2_contingency(data_for_chi2)[1]"
   ]
  },
  {
   "cell_type": "code",
   "execution_count": 39,
   "metadata": {},
   "outputs": [],
   "source": [
    "# p-values are rather close"
   ]
  }
 ],
 "metadata": {
  "kernelspec": {
   "display_name": "Python 3",
   "language": "python",
   "name": "python3"
  },
  "language_info": {
   "codemirror_mode": {
    "name": "ipython",
    "version": 3
   },
   "file_extension": ".py",
   "mimetype": "text/x-python",
   "name": "python",
   "nbconvert_exporter": "python",
   "pygments_lexer": "ipython3",
   "version": "3.8.5"
  }
 },
 "nbformat": 4,
 "nbformat_minor": 4
}
